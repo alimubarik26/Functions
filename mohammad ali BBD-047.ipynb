{
 "cells": [
  {
   "cell_type": "code",
   "execution_count": 8,
   "id": "4144cb29-b9b0-40af-8729-3bb247b55859",
   "metadata": {},
   "outputs": [
    {
     "name": "stdout",
     "output_type": "stream",
     "text": [
      "hello,pytohon learner!\n"
     ]
    }
   ],
   "source": [
    "#Question no1:\n",
    "def say_hello():\n",
    "    print(\"hello,pytohon learner!\")\n",
    "say_hello()"
   ]
  },
  {
   "cell_type": "code",
   "execution_count": 13,
   "id": "428a3603-2b84-48d1-a6f3-3b4ddbb6cf96",
   "metadata": {},
   "outputs": [
    {
     "ename": "SyntaxError",
     "evalue": "invalid syntax (2588907332.py, line 2)",
     "output_type": "error",
     "traceback": [
      "\u001b[1;36m  Cell \u001b[1;32mIn[13], line 2\u001b[1;36m\u001b[0m\n\u001b[1;33m    def greet_user(\"alii\"):\u001b[0m\n\u001b[1;37m                   ^\u001b[0m\n\u001b[1;31mSyntaxError\u001b[0m\u001b[1;31m:\u001b[0m invalid syntax\n"
     ]
    }
   ],
   "source": [
    "#Question no 2:\n",
    "def greet_user(\"alii\"):\n",
    "    print(f\"Hello, {\"alii\"}!Welcome!\")\n",
    "greet_user(\"alii\"):\n"
   ]
  },
  {
   "cell_type": "code",
   "execution_count": 3,
   "id": "a6141d07-9c0c-410d-b0b2-27732478b7b6",
   "metadata": {},
   "outputs": [
    {
     "name": "stdout",
     "output_type": "stream",
     "text": [
      "\n",
      "I have a lionm.\n",
      "My lionm's name is King.\n"
     ]
    }
   ],
   "source": [
    "#Question no 3:\n",
    "def describe_pet(animal_type, pet_name):\n",
    "    print(f\"\\nI have a {animal_type}.\")\n",
    "    print(f\"My {animal_type}'s name is {pet_name.title()}.\")\n",
    "describe_pet(\"lionm\",\"king\")\n"
   ]
  },
  {
   "cell_type": "code",
   "execution_count": 14,
   "id": "5de85715-b8da-429b-8f7d-a61e6c1ac07b",
   "metadata": {},
   "outputs": [
    {
     "name": "stdout",
     "output_type": "stream",
     "text": [
      "\n",
      "I have a dog.\n",
      "My dog's name is Rocky.\n",
      "\n",
      "I have a cat.\n",
      "My cat's name is Mimi.\n"
     ]
    }
   ],
   "source": [
    "#Question no4:\n",
    "def describe_pet(pet_name, animal_type='dog'):\n",
    "    print(f\"\\nI have a {animal_type}.\")\n",
    "    print(f\"My {animal_type}'s name is {pet_name.title()}.\")\n",
    "describe_pet(\"rocky\")\n",
    "describe_pet(\"mimi\",animal_type=\"cat\")"
   ]
  },
  {
   "cell_type": "code",
   "execution_count": 15,
   "id": "9fcdfd4d-14fe-4710-820e-40d1204fa347",
   "metadata": {},
   "outputs": [
    {
     "name": "stdout",
     "output_type": "stream",
     "text": [
      "Muhammad Ali\n"
     ]
    }
   ],
   "source": [
    "#QUestion no 5:\n",
    "def get_formatted_name(first, last):\n",
    "    full_name = f\"{first} {last}\"\n",
    "    return full_name.title()\n",
    "name=get_formatted_name(\"muhammad\",\"ali\")\n",
    "print(name)\n"
   ]
  },
  {
   "cell_type": "code",
   "execution_count": 16,
   "id": "0454d243-c834-4c5e-ac63-d3eda9947ac8",
   "metadata": {},
   "outputs": [
    {
     "name": "stdout",
     "output_type": "stream",
     "text": [
      "Muhammad Ali\n"
     ]
    }
   ],
   "source": [
    "#question no 6:\n",
    "def get_formatted_name(first, last, middle=''):\n",
    "    if middle:\n",
    "        full_name = f\"{first} {middle} {last}\"\n",
    "    else:\n",
    "        full_name = f\"{first} {last}\"\n",
    "    return full_name.title()\n",
    "    name=get_formatted_name(\"bilal\",\"ahmadf\",\"ali\")\n",
    "print(name)\n",
    "    \n"
   ]
  },
  {
   "cell_type": "code",
   "execution_count": 18,
   "id": "e4937139-8f21-439f-bff8-0f354eeee95d",
   "metadata": {},
   "outputs": [
    {
     "ename": "NameError",
     "evalue": "name 'person2' is not defined",
     "output_type": "error",
     "traceback": [
      "\u001b[1;31m---------------------------------------------------------------------------\u001b[0m",
      "\u001b[1;31mNameError\u001b[0m                                 Traceback (most recent call last)",
      "Cell \u001b[1;32mIn[18], line 10\u001b[0m\n\u001b[0;32m      8\u001b[0m     \u001b[38;5;28;01mreturn\u001b[39;00m person\n\u001b[0;32m      9\u001b[0m     person \u001b[38;5;241m=\u001b[39m build_person(\u001b[38;5;124m'\u001b[39m\u001b[38;5;124mJane\u001b[39m\u001b[38;5;124m'\u001b[39m, \u001b[38;5;124m'\u001b[39m\u001b[38;5;124mSmith\u001b[39m\u001b[38;5;124m'\u001b[39m, age\u001b[38;5;241m=\u001b[39m\u001b[38;5;241m30\u001b[39m)\n\u001b[1;32m---> 10\u001b[0m \u001b[38;5;28mprint\u001b[39m(person2)\n",
      "\u001b[1;31mNameError\u001b[0m: name 'person2' is not defined"
     ]
    }
   ],
   "source": [
    "#question no 7\n",
    "def build_person(first, last, age=None):\n",
    "    person = {\n",
    "        'first': first,\n",
    "        'last': last\n",
    "    }\n",
    "    if age is not None:\n",
    "        person['age'] = age\n",
    "    return person\n",
    "    person = build_person('Jane', 'Smith', age=30)\n",
    "print(person2)\n",
    "\n"
   ]
  },
  {
   "cell_type": "code",
   "execution_count": 19,
   "id": "6c85194c-897d-4fd9-ac36-6ec4ce881375",
   "metadata": {},
   "outputs": [
    {
     "name": "stdout",
     "output_type": "stream",
     "text": [
      "Hello, Ali! Welcome back.\n",
      "Hello, Bilal! Welcome back.\n",
      "Hello, Anas! Welcome back.\n"
     ]
    }
   ],
   "source": [
    "#question no 8\n",
    "def greet_users(usernames):\n",
    "    for username in usernames:\n",
    "        print(f\"Hello, {username.title()}! Welcome back.\")\n",
    "usernames = [\"ali\",\"bilal\",\"anas\"]\n",
    "greet_users(usernames)\n"
   ]
  },
  {
   "cell_type": "code",
   "execution_count": 20,
   "id": "ad1eadb5-a4df-44e2-808c-80866ba510b8",
   "metadata": {},
   "outputs": [
    {
     "name": "stdout",
     "output_type": "stream",
     "text": [
      "Making a pizza with the following toppings:\n",
      "- pepporoni\n",
      "- olives\n",
      "- chicken\n"
     ]
    }
   ],
   "source": [
    "#Question no 9\n",
    "def make_pizza(*toppings):\n",
    "    print(\"Making a pizza with the following toppings:\")\n",
    "    for topping in toppings:\n",
    "        print(f\"- {topping}\")\n",
    "make_pizza(\"pepporoni\",\"olives\",\"chicken\")"
   ]
  },
  {
   "cell_type": "code",
   "execution_count": 22,
   "id": "0d2a85e2-6b11-4463-a905-a417b6f48423",
   "metadata": {},
   "outputs": [
    {
     "name": "stdout",
     "output_type": "stream",
     "text": [
      "{'first': 'ali', 'last': 'anas', 'location': 'los vegas', 'feild': 'computer science'}\n"
     ]
    }
   ],
   "source": [
    "#question no 10\n",
    "def build_profile(first, last, **info):\n",
    "    profile = {}\n",
    "    profile['first'] = first\n",
    "    profile['last'] = last\n",
    "    for key, value in info.items():\n",
    "        profile[key] = value\n",
    "    return profile\n",
    "user_profile=build_profile(\"ali\",\"anas\",location=\"los vegas\",feild=\"computer science\")\n",
    "print(user_profile)"
   ]
  },
  {
   "cell_type": "code",
   "execution_count": null,
   "id": "b8d4a078-05a0-4432-bcbd-5bd7ad2b6c4c",
   "metadata": {},
   "outputs": [],
   "source": []
  }
 ],
 "metadata": {
  "kernelspec": {
   "display_name": "Python 3 (ipykernel)",
   "language": "python",
   "name": "python3"
  },
  "language_info": {
   "codemirror_mode": {
    "name": "ipython",
    "version": 3
   },
   "file_extension": ".py",
   "mimetype": "text/x-python",
   "name": "python",
   "nbconvert_exporter": "python",
   "pygments_lexer": "ipython3",
   "version": "3.12.4"
  }
 },
 "nbformat": 4,
 "nbformat_minor": 5
}
